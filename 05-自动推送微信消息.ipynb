{
 "cells": [
  {
   "cell_type": "code",
   "execution_count": 2,
   "metadata": {},
   "outputs": [
    {
     "data": {
      "text/plain": [
       "{'code': 1000,\n",
       " 'msg': '处理成功',\n",
       " 'data': {'total': 1,\n",
       "  'page': 1,\n",
       "  'pageSize': 20,\n",
       "  'records': [{'id': 8983,\n",
       "    'uid': 'UID_4KEgQdVFBw7ciEX4u0A9HTmuHoEL',\n",
       "    'openId': None,\n",
       "    'nickName': '小奔',\n",
       "    'headImg': 'http://thirdwx.qlogo.cn/mmopen/O9JBicdWN0a7JDrI4RmBI4rxhEgjv4fv5BqFict3Qz1rj9iagXkDy7vFtDaCia6icE23ibYoWoKUL8lnFqbEWMe9930xicVfHCiamRNM/132',\n",
       "    'sex': None,\n",
       "    'activeTime': None,\n",
       "    'lastTime': None,\n",
       "    'enable': True,\n",
       "    'subscribe': None,\n",
       "    'createTime': 1582806354930}]},\n",
       " 'success': True}"
      ]
     },
     "execution_count": 2,
     "metadata": {},
     "output_type": "execute_result"
    }
   ],
   "source": [
    "import requests\n",
    "\n",
    "#查找当前订阅的用户\n",
    "url1 = 'http://wxpusher.zjiecode.com/api/fun/wxuser'\n",
    "\n",
    "parameters1 = {\n",
    "    'appToken':'AT_awCxNJvY4xqWek40uB7xXUvbS8X0hUtk',\n",
    "    'page':1,\n",
    "    'pageSize':20\n",
    "}\n",
    "\n",
    "res1 = requests.get(url=url1,params=parameters1)\n",
    "\n",
    "user_id = res1.json()\n",
    "\n",
    "user_id"
   ]
  },
  {
   "cell_type": "code",
   "execution_count": 12,
   "metadata": {},
   "outputs": [
    {
     "data": {
      "text/plain": [
       "{'code': 1000,\n",
       " 'msg': '处理成功',\n",
       " 'data': [{'uid': 'UID_4KEgQdVFBw7ciEX4u0A9HTmuHoEL',\n",
       "   'topicId': None,\n",
       "   'messageId': 3977069,\n",
       "   'code': 1000,\n",
       "   'status': '创建发送任务成功'}],\n",
       " 'success': True}"
      ]
     },
     "execution_count": 12,
     "metadata": {},
     "output_type": "execute_result"
    }
   ],
   "source": [
    "#向微信用户端推送消息\n",
    "url2 = 'http://wxpusher.zjiecode.com/api/send/message'\n",
    "\n",
    "desp = '基金代码 | 基金名称 | 溢价率 | 场内现价 | 场外估值 \\n\\n513100 | 纳指ETF | 11.37% | 3.686 | 3.3098\\n\\n162411 | 华宝油气 | 9.07% | 0.345 | 0.3163\\n\\n159941 | 纳指ETF | 5.61% | 2.137 | 2.0235\\n\\n162719 | 广发石油 | 3.37% | 0.829 | 0.8020\\n\\n513050 | 中概互联 | 2.94% | 1.486 | 1.4435\\n\\n164906 | 中国互联 | 2.8% | 1.441 | 1.4018\\n\\n513500 | 标普500 | 2.1% | 2.167 | 2.1225\\n\\n'\n",
    "\n",
    "parameters2 = {\n",
    "    \"appToken\":\"AT_awCxNJvY4xqWek40uB7xXUvbS8X0hUtk\",\n",
    "    #发送目标的UID，是一个数组！！！\n",
    "    \"uids\":[ \"UID_4KEgQdVFBw7ciEX4u0A9HTmuHoEL\" ],\n",
    "    #内容类型 1表示文字  2表示html(只发送body标签内部的数据即可，不包括body标签) 3表示markdown \n",
    "    \"contentType\":3,\n",
    "    \n",
    "    \"content\":\"【当前可进行套利操作】\\n\\n\" + desp\n",
    "\n",
    "}\n",
    "\n",
    "\n",
    "parameters3 = {'appToken': 'AT_awCxNJvY4xqWek40uB7xXUvbS8X0hUtk', 'uids': ['UID_4KEgQdVFBw7ciEX4u0A9HTmuHoEL'], 'contentType': 3, 'content': '【当前可进行套利操作！】\\n\\n基金代码 | 基金名称 | 溢价率 | 场内现价 | 场外估值 \\n\\n162411 | 华宝油气 | 13.68% | 0.330 | 0.2903\\n\\n159941 | 纳指ETF | 4.83% | 2.074 | 1.9784\\n\\n513500 | 标普500 | 2.49% | 2.098 | 2.0470\\n\\n'}\n",
    "\n",
    "\n",
    "\n",
    "res2 = requests.post(url=url2,json=parameters3)\n",
    "\n",
    "result = res2.json()\n",
    "\n",
    "result"
   ]
  }
 ],
 "metadata": {
  "kernelspec": {
   "display_name": "Python 3",
   "language": "python",
   "name": "python3"
  },
  "language_info": {
   "codemirror_mode": {
    "name": "ipython",
    "version": 3
   },
   "file_extension": ".py",
   "mimetype": "text/x-python",
   "name": "python",
   "nbconvert_exporter": "python",
   "pygments_lexer": "ipython3",
   "version": "3.7.3"
  },
  "toc": {
   "base_numbering": 1,
   "nav_menu": {},
   "number_sections": true,
   "sideBar": true,
   "skip_h1_title": false,
   "title_cell": "Table of Contents",
   "title_sidebar": "Contents",
   "toc_cell": false,
   "toc_position": {},
   "toc_section_display": true,
   "toc_window_display": false
  }
 },
 "nbformat": 4,
 "nbformat_minor": 2
}

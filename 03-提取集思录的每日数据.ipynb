{
 "cells": [
  {
   "cell_type": "code",
   "execution_count": 1,
   "metadata": {},
   "outputs": [
    {
     "name": "stdout",
     "output_type": "stream",
     "text": [
      "1\n"
     ]
    }
   ],
   "source": [
    "import requests\n",
    "import pandas as pd\n",
    "\n",
    "#url = 'https://www.jisilu.cn/data/qdii/qdii_list/?___jsl=LST___t=1581091441589&rp=25&page=1'\n",
    "\n",
    "#集思录网址QDII基金查询接口（测试中）\n",
    "jslUrl = 'https://www.jisilu.cn/data/qdii/qdii_list/?___jsl=LST___t'\n",
    "\n",
    "jsl = requests.get(url=jslUrl)\n",
    "\n",
    "data = jsl.json()\n",
    "\n",
    "print(data['page'])"
   ]
  },
  {
   "cell_type": "code",
   "execution_count": 2,
   "metadata": {},
   "outputs": [
    {
     "data": {
      "text/plain": [
       "{'fund_id': '162411',\n",
       " 'fund_nm': '华宝油气',\n",
       " 'asset_ratio': '95.000',\n",
       " 'lof_type': 'QDII',\n",
       " 'price': '0.365',\n",
       " 'price_dt': '2020-02-07',\n",
       " 'increase_rt': '-1.88%',\n",
       " 'volume': '14717.67',\n",
       " 'stock_volume': '40524.8889',\n",
       " 'last_time': '15:00:03',\n",
       " 'amount': 661501,\n",
       " 'amount_incr': '16869',\n",
       " 'amount_increase_rt': '2.62',\n",
       " 'fund_nav': '0.3470',\n",
       " 'nav_dt': '2020-02-06',\n",
       " 'estimate_value': '0.3467',\n",
       " 'last_est_dt': '2020-02-07',\n",
       " 'last_est_time': '15:00:03',\n",
       " 'ref_increase_rt': '-2.00%',\n",
       " 'est_val_dt': '2020-02-06',\n",
       " 'est_val_increase_rt': '-1.68%',\n",
       " 'discount_rt': '5.28%',\n",
       " 'index_id': 'Y',\n",
       " 'index_nm': '标普石油天然气上游股票指数',\n",
       " 'apply_fee': '1.5%',\n",
       " 'apply_fee_tips': '50万以下 1.5%；\\n50万(含)至100万 1.2%；\\n100万(含)至200万 1.0%；\\n200万(含)至500万 0.5%；\\n500万(含)以上 每笔1000元。',\n",
       " 'redeem_fee': '1.5%',\n",
       " 'redeem_fee_tips': '7日内1.5%\\n持有1年以下 0.50%；\\n持有1年至2年 0.25%；\\n持有2年以上0',\n",
       " 'apply_status': '开放申购',\n",
       " 'redeem_status': '开放赎回',\n",
       " 'min_amt': None,\n",
       " 'money_cd': 'USD',\n",
       " 'notes': '',\n",
       " 'owned': 0,\n",
       " 'apply_redeem_status': '开放申购/开放赎回',\n",
       " 'amount_incr_tips': '最新份额：661501万份；增长：2.62%',\n",
       " 'turnover_rt': '6.13%',\n",
       " 'last_est_datetime': '2020-02-07 15:00:03',\n",
       " 'fund_nm_color': '华宝油气',\n",
       " 'fund_id_color': '162411'}"
      ]
     },
     "execution_count": 2,
     "metadata": {},
     "output_type": "execute_result"
    }
   ],
   "source": [
    "#格式化获取到的数据\n",
    "qdiiInfo = pd.DataFrame(data['rows'])\n",
    "\n",
    "#查找华宝油气（代码=162411）\n",
    "hbyq = qdiiInfo[qdiiInfo['id']=='162411']\n",
    "\n",
    "info = hbyq['cell'][1]\n",
    "\n",
    "info"
   ]
  },
  {
   "cell_type": "code",
   "execution_count": 3,
   "metadata": {},
   "outputs": [],
   "source": [
    "#发送微信消息提醒\n",
    "def sendMessage(text,desp):\n",
    "    severUrl = 'https://sc.ftqq.com/SCU80469T3f7f6cd2cc99acb1eace952a841df5835e3da00e0cc93.send'\n",
    "    paramaters = {'text':text,\n",
    "              'desp':desp}\n",
    "\n",
    "    response = requests.get(url=severUrl,params=paramaters)\n",
    "    result = response.json()\n",
    "    \n",
    "    if result['errno'] == 0 :\n",
    "        print('消息发送成功~~')\n",
    "    else :\n",
    "        print('消息发送失败！错误信息：' + result['errmsg'])"
   ]
  },
  {
   "cell_type": "code",
   "execution_count": 7,
   "metadata": {},
   "outputs": [
    {
     "name": "stdout",
     "output_type": "stream",
     "text": [
      "消息发送成功~~\n",
      "当前可进行套利操作！\n",
      "---------------------------\n",
      "华宝油气溢价率：5.28%\n",
      "\n",
      "2020-02-07 | 场内现价：0.365(-1.88%)\n",
      "\n",
      "2020-02-06 | 场外净值：0.3470\n",
      "\n",
      "2020-02-06 | 场外估值：0.3467(-1.68%)\n"
     ]
    }
   ],
   "source": [
    "if abs(float(info['discount_rt'][:-1])) > 2 :\n",
    "    text = '当前可进行套利操作！'\n",
    "    desp = '华宝油气溢价率：' + info['discount_rt'] + '\\n\\n' + info['price_dt'] + ' | 场内现价：' + info['price'] + '(' + info['increase_rt'] + ')' + '\\n\\n' + info['nav_dt'] + ' | 场外净值：' + info['fund_nav'] + '\\n\\n'  + info['est_val_dt'] + ' | 场外估值：' + info['estimate_value'] + '(' + info['est_val_increase_rt'] + ')'\n",
    "    sendMessage(text = text , desp = desp)\n",
    "    \n",
    "    print(text)\n",
    "    print('---------------------------')\n",
    "    print(desp)"
   ]
  }
 ],
 "metadata": {
  "kernelspec": {
   "display_name": "Python 3",
   "language": "python",
   "name": "python3"
  },
  "language_info": {
   "codemirror_mode": {
    "name": "ipython",
    "version": 3
   },
   "file_extension": ".py",
   "mimetype": "text/x-python",
   "name": "python",
   "nbconvert_exporter": "python",
   "pygments_lexer": "ipython3",
   "version": "3.7.3"
  },
  "toc": {
   "base_numbering": 1,
   "nav_menu": {},
   "number_sections": true,
   "sideBar": true,
   "skip_h1_title": false,
   "title_cell": "Table of Contents",
   "title_sidebar": "Contents",
   "toc_cell": false,
   "toc_position": {},
   "toc_section_display": true,
   "toc_window_display": false
  }
 },
 "nbformat": 4,
 "nbformat_minor": 2
}

{
 "cells": [
  {
   "cell_type": "code",
   "execution_count": 36,
   "metadata": {},
   "outputs": [
    {
     "name": "stdout",
     "output_type": "stream",
     "text": [
      "today is holiday~\n"
     ]
    }
   ],
   "source": [
    "import requests\n",
    "import datetime\n",
    "import pytz\n",
    "\n",
    "\n",
    "#pytz.country_timezones('cn')\n",
    "\n",
    "#定义时区=东八区\n",
    "tz = pytz.timezone('Asia/Shanghai')\n",
    "\n",
    "#获取当前时间\n",
    "now = datetime.datetime.now(tz)\n",
    "\n",
    "#格式化日期时间\n",
    "today = now.strftime('%Y%m%d')\n",
    "\n",
    "#节假日接口(工作日对应结果为 0, 休息日对应结果为 1, 节假日对应的结果为 2 )\n",
    "server_url = \"http://www.easybots.cn/api/holiday.php?d=\"\n",
    "req = requests.get(server_url + today)\n",
    "result = req.json()[today]\n",
    "\n",
    "\n",
    "if result == '0':\n",
    "    goon()\n",
    "else :\n",
    "    print('today is holiday~')\n",
    "\n",
    "    \n",
    "def goon():\n",
    "    print(\"go on\")\n",
    "\n"
   ]
  }
 ],
 "metadata": {
  "kernelspec": {
   "display_name": "Python 3",
   "language": "python",
   "name": "python3"
  },
  "language_info": {
   "codemirror_mode": {
    "name": "ipython",
    "version": 3
   },
   "file_extension": ".py",
   "mimetype": "text/x-python",
   "name": "python",
   "nbconvert_exporter": "python",
   "pygments_lexer": "ipython3",
   "version": "3.7.3"
  },
  "toc": {
   "base_numbering": 1,
   "nav_menu": {},
   "number_sections": true,
   "sideBar": true,
   "skip_h1_title": false,
   "title_cell": "Table of Contents",
   "title_sidebar": "Contents",
   "toc_cell": false,
   "toc_position": {},
   "toc_section_display": true,
   "toc_window_display": false
  }
 },
 "nbformat": 4,
 "nbformat_minor": 2
}

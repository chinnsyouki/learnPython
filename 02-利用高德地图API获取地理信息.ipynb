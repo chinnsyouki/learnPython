{
 "cells": [
  {
   "cell_type": "code",
   "execution_count": 26,
   "metadata": {},
   "outputs": [
    {
     "data": {
      "text/plain": [
       "'466'"
      ]
     },
     "execution_count": 26,
     "metadata": {},
     "output_type": "execute_result"
    }
   ],
   "source": [
    "import requests\n",
    "import pandas as pd\n",
    "\n",
    "url = 'https://restapi.amap.com/v3/place/text'\n",
    "\n",
    "#设置参数\n",
    "parameters = {'key':'c4************d1b3f',  #填写高德地图API的key\n",
    "              #'keywords':'金融保险',\n",
    "              'types':'080000',                    #金融保险服务\n",
    "              'city':'430626',                     #长沙市\n",
    "              'citylimit':'true',\n",
    "              'offset':20,\n",
    "              'page':1\n",
    "             }\n",
    "\n",
    "#获取高德地图的数据\n",
    "def getGaodeMapInfo(url = url , parameters = parameters):\n",
    "    gaode = requests.get(url,parameters)\n",
    "    #获取返回的json数据\n",
    "    result = gaode.json()\n",
    "    return result\n",
    "\n",
    "#获取首次请求数据时得到的最大页数\n",
    "def getMaxPage(result):\n",
    "    pages = int(result['count']) / 20 + 1\n",
    "    return pages\n",
    "\n",
    "result = getGaodeMapInfo()\n",
    "\n",
    "pages = getMaxPage(result)\n",
    "\n",
    "result['count']"
   ]
  },
  {
   "cell_type": "code",
   "execution_count": 27,
   "metadata": {},
   "outputs": [
    {
     "data": {
      "text/plain": [
       "24.3"
      ]
     },
     "execution_count": 27,
     "metadata": {},
     "output_type": "execute_result"
    }
   ],
   "source": [
    "pages"
   ]
  },
  {
   "cell_type": "code",
   "execution_count": 28,
   "metadata": {},
   "outputs": [
    {
     "data": {
      "text/plain": [
       "430"
      ]
     },
     "execution_count": 28,
     "metadata": {},
     "output_type": "execute_result"
    }
   ],
   "source": [
    "n = range(1,int(pages))\n",
    "\n",
    "#创建一张空的目标表格\n",
    "poisInfo = pd.DataFrame(columns=['name','pname','cityname','adname','address','type','location'])\n",
    "\n",
    "#循环访问每一页\n",
    "for page in n :\n",
    "    parameters['page'] = page\n",
    "    result = getGaodeMapInfo(url = url , parameters = parameters)\n",
    "    \n",
    "    #将数据转换成DataFrame表格形式\n",
    "    if int(result['count']) > 0 :\n",
    "        pois = pd.DataFrame(result['pois'])\n",
    "    \n",
    "    #选取必要的字段\n",
    "    info = pois.loc[:,['name','pname','cityname','adname','address','type','location']]\n",
    "    \n",
    "    #合并表\n",
    "    poisInfo = poisInfo.append(info,ignore_index = True)\n",
    "        \n",
    "    \n",
    "len(poisInfo)"
   ]
  },
  {
   "cell_type": "code",
   "execution_count": 29,
   "metadata": {},
   "outputs": [
    {
     "data": {
      "text/plain": [
       "430"
      ]
     },
     "execution_count": 29,
     "metadata": {},
     "output_type": "execute_result"
    }
   ],
   "source": [
    "#清洗数据\n",
    "#清除为空的数据\n",
    "poisInfo_cleaned = poisInfo.dropna(how = 'all')\n",
    "\n",
    "len(poisInfo_cleaned)"
   ]
  },
  {
   "cell_type": "code",
   "execution_count": 30,
   "metadata": {},
   "outputs": [
    {
     "data": {
      "text/html": [
       "<div>\n",
       "<style scoped>\n",
       "    .dataframe tbody tr th:only-of-type {\n",
       "        vertical-align: middle;\n",
       "    }\n",
       "\n",
       "    .dataframe tbody tr th {\n",
       "        vertical-align: top;\n",
       "    }\n",
       "\n",
       "    .dataframe thead th {\n",
       "        text-align: right;\n",
       "    }\n",
       "</style>\n",
       "<table border=\"1\" class=\"dataframe\">\n",
       "  <thead>\n",
       "    <tr style=\"text-align: right;\">\n",
       "      <th></th>\n",
       "      <th>name</th>\n",
       "      <th>pname</th>\n",
       "      <th>cityname</th>\n",
       "      <th>adname</th>\n",
       "      <th>address</th>\n",
       "      <th>type</th>\n",
       "      <th>location</th>\n",
       "    </tr>\n",
       "  </thead>\n",
       "  <tbody>\n",
       "    <tr>\n",
       "      <th>0</th>\n",
       "      <td>唯歌KTV量贩</td>\n",
       "      <td>湖南省</td>\n",
       "      <td>岳阳市</td>\n",
       "      <td>平江县</td>\n",
       "      <td>天岳大道767号天岳农贸超市3层(原金莎菜市场前门)</td>\n",
       "      <td>体育休闲服务;娱乐场所;KTV</td>\n",
       "      <td>113.594330,28.703259</td>\n",
       "    </tr>\n",
       "    <tr>\n",
       "      <th>1</th>\n",
       "      <td>人民影剧院(花溪巷)</td>\n",
       "      <td>湖南省</td>\n",
       "      <td>岳阳市</td>\n",
       "      <td>平江县</td>\n",
       "      <td>启明路237号人民大剧院</td>\n",
       "      <td>体育休闲服务;影剧院;电影院</td>\n",
       "      <td>113.579317,28.706009</td>\n",
       "    </tr>\n",
       "    <tr>\n",
       "      <th>2</th>\n",
       "      <td>好声音娱乐城(平江店)</td>\n",
       "      <td>湖南省</td>\n",
       "      <td>岳阳市</td>\n",
       "      <td>平江县</td>\n",
       "      <td>开发区四柱路环卫所隔壁</td>\n",
       "      <td>体育休闲服务;娱乐场所;娱乐场所</td>\n",
       "      <td>113.597822,28.700236</td>\n",
       "    </tr>\n",
       "    <tr>\n",
       "      <th>3</th>\n",
       "      <td>英皇娱乐</td>\n",
       "      <td>湖南省</td>\n",
       "      <td>岳阳市</td>\n",
       "      <td>平江县</td>\n",
       "      <td>东兴大道与百花台路交叉口东150米</td>\n",
       "      <td>体育休闲服务;娱乐场所;KTV</td>\n",
       "      <td>113.598897,28.686762</td>\n",
       "    </tr>\n",
       "    <tr>\n",
       "      <th>4</th>\n",
       "      <td>光速网咖</td>\n",
       "      <td>湖南省</td>\n",
       "      <td>岳阳市</td>\n",
       "      <td>平江县</td>\n",
       "      <td>天岳大道好风景家居广场东南60米</td>\n",
       "      <td>体育休闲服务;娱乐场所;网吧</td>\n",
       "      <td>113.592052,28.688223</td>\n",
       "    </tr>\n",
       "    <tr>\n",
       "      <th>5</th>\n",
       "      <td>龙泉山庄(117乡道)</td>\n",
       "      <td>湖南省</td>\n",
       "      <td>岳阳市</td>\n",
       "      <td>平江县</td>\n",
       "      <td>117乡道北150米</td>\n",
       "      <td>体育休闲服务;度假疗养场所;度假村|体育休闲服务;休闲场所;休闲场所</td>\n",
       "      <td>113.824256,28.968953</td>\n",
       "    </tr>\n",
       "    <tr>\n",
       "      <th>6</th>\n",
       "      <td>迪拜网咖</td>\n",
       "      <td>湖南省</td>\n",
       "      <td>岳阳市</td>\n",
       "      <td>平江县</td>\n",
       "      <td>百花台中路148号</td>\n",
       "      <td>体育休闲服务;娱乐场所;网吧</td>\n",
       "      <td>113.596350,28.686335</td>\n",
       "    </tr>\n",
       "    <tr>\n",
       "      <th>7</th>\n",
       "      <td>华夏国际影城</td>\n",
       "      <td>湖南省</td>\n",
       "      <td>岳阳市</td>\n",
       "      <td>平江县</td>\n",
       "      <td>启明路与民建北路交汇处宏远·万汇中心4层</td>\n",
       "      <td>体育休闲服务;影剧院;电影院</td>\n",
       "      <td>113.583636,28.707541</td>\n",
       "    </tr>\n",
       "    <tr>\n",
       "      <th>8</th>\n",
       "      <td>百乐门娱乐城(天岳大道)</td>\n",
       "      <td>湖南省</td>\n",
       "      <td>岳阳市</td>\n",
       "      <td>平江县</td>\n",
       "      <td>天岳大道与百花台路交叉口东北150米</td>\n",
       "      <td>体育休闲服务;娱乐场所;夜总会</td>\n",
       "      <td>113.592050,28.687802</td>\n",
       "    </tr>\n",
       "    <tr>\n",
       "      <th>9</th>\n",
       "      <td>欢乐果世界</td>\n",
       "      <td>湖南省</td>\n",
       "      <td>岳阳市</td>\n",
       "      <td>平江县</td>\n",
       "      <td>新江村093乡道东侧</td>\n",
       "      <td>体育休闲服务;休闲场所;休闲场所</td>\n",
       "      <td>113.777535,28.568998</td>\n",
       "    </tr>\n",
       "  </tbody>\n",
       "</table>\n",
       "</div>"
      ],
      "text/plain": [
       "           name pname cityname adname                     address  \\\n",
       "0       唯歌KTV量贩   湖南省      岳阳市    平江县  天岳大道767号天岳农贸超市3层(原金莎菜市场前门)   \n",
       "1    人民影剧院(花溪巷)   湖南省      岳阳市    平江县                启明路237号人民大剧院   \n",
       "2   好声音娱乐城(平江店)   湖南省      岳阳市    平江县                 开发区四柱路环卫所隔壁   \n",
       "3          英皇娱乐   湖南省      岳阳市    平江县           东兴大道与百花台路交叉口东150米   \n",
       "4          光速网咖   湖南省      岳阳市    平江县            天岳大道好风景家居广场东南60米   \n",
       "5   龙泉山庄(117乡道)   湖南省      岳阳市    平江县                  117乡道北150米   \n",
       "6          迪拜网咖   湖南省      岳阳市    平江县                   百花台中路148号   \n",
       "7        华夏国际影城   湖南省      岳阳市    平江县        启明路与民建北路交汇处宏远·万汇中心4层   \n",
       "8  百乐门娱乐城(天岳大道)   湖南省      岳阳市    平江县          天岳大道与百花台路交叉口东北150米   \n",
       "9         欢乐果世界   湖南省      岳阳市    平江县                  新江村093乡道东侧   \n",
       "\n",
       "                                 type              location  \n",
       "0                     体育休闲服务;娱乐场所;KTV  113.594330,28.703259  \n",
       "1                      体育休闲服务;影剧院;电影院  113.579317,28.706009  \n",
       "2                    体育休闲服务;娱乐场所;娱乐场所  113.597822,28.700236  \n",
       "3                     体育休闲服务;娱乐场所;KTV  113.598897,28.686762  \n",
       "4                      体育休闲服务;娱乐场所;网吧  113.592052,28.688223  \n",
       "5  体育休闲服务;度假疗养场所;度假村|体育休闲服务;休闲场所;休闲场所  113.824256,28.968953  \n",
       "6                      体育休闲服务;娱乐场所;网吧  113.596350,28.686335  \n",
       "7                      体育休闲服务;影剧院;电影院  113.583636,28.707541  \n",
       "8                     体育休闲服务;娱乐场所;夜总会  113.592050,28.687802  \n",
       "9                    体育休闲服务;休闲场所;休闲场所  113.777535,28.568998  "
      ]
     },
     "execution_count": 30,
     "metadata": {},
     "output_type": "execute_result"
    }
   ],
   "source": [
    "poisInfo_cleaned.head(10)"
   ]
  },
  {
   "cell_type": "code",
   "execution_count": 47,
   "metadata": {},
   "outputs": [],
   "source": [
    "#导出csv文件\n",
    "\n",
    "import os\n",
    "\n",
    "path = os.getcwd()\n",
    "\n",
    "poisInfo_cleaned.to_csv(path + '\\\\data\\\\pois_changsha.csv',index = 0,encoding='utf-8')\n"
   ]
  }
 ],
 "metadata": {
  "kernelspec": {
   "display_name": "Python 3",
   "language": "python",
   "name": "python3"
  },
  "language_info": {
   "codemirror_mode": {
    "name": "ipython",
    "version": 3
   },
   "file_extension": ".py",
   "mimetype": "text/x-python",
   "name": "python",
   "nbconvert_exporter": "python",
   "pygments_lexer": "ipython3",
   "version": "3.7.3"
  },
  "toc": {
   "base_numbering": 1,
   "nav_menu": {},
   "number_sections": true,
   "sideBar": true,
   "skip_h1_title": false,
   "title_cell": "Table of Contents",
   "title_sidebar": "Contents",
   "toc_cell": false,
   "toc_position": {},
   "toc_section_display": true,
   "toc_window_display": false
  }
 },
 "nbformat": 4,
 "nbformat_minor": 2
}

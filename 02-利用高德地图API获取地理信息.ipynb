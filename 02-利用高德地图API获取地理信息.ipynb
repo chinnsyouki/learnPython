{
 "cells": [
  {
   "cell_type": "code",
   "execution_count": 19,
   "metadata": {},
   "outputs": [
    {
     "data": {
      "text/plain": [
       "46.0"
      ]
     },
     "execution_count": 19,
     "metadata": {},
     "output_type": "execute_result"
    }
   ],
   "source": [
    "import requests\n",
    "import pandas as pd\n",
    "\n",
    "url = 'https://restapi.amap.com/v3/place/text'\n",
    "\n",
    "#设置参数\n",
    "parameters = {'key':'c4c6******************1b3f',  #填写高德地图API的key\n",
    "              #'keywords':'金融保险',\n",
    "              'types':'160000',                    #金融保险服务\n",
    "              'city':'430100',                     #长沙市\n",
    "              'citylimit':'true',\n",
    "              'offset':20,\n",
    "              'page':1\n",
    "             }\n",
    "\n",
    "#获取高德地图的数据\n",
    "def getGaodeMapInfo(url = url , parameters = parameters):\n",
    "    gaode = requests.get(url,parameters)\n",
    "    #获取返回的json数据\n",
    "    result = gaode.json()\n",
    "    return result\n",
    "\n",
    "#获取首次请求数据时得到的最大页数\n",
    "def getMaxPage(result):\n",
    "    pages = int(result['count']) / 20 + 1\n",
    "    return pages\n",
    "\n",
    "result = getGaodeMapInfo()\n",
    "\n",
    "pages = getMaxPage(result)\n",
    "\n",
    "pages"
   ]
  },
  {
   "cell_type": "code",
   "execution_count": 40,
   "metadata": {},
   "outputs": [],
   "source": [
    "poisInfo = None"
   ]
  },
  {
   "cell_type": "code",
   "execution_count": 41,
   "metadata": {},
   "outputs": [
    {
     "data": {
      "text/plain": [
       "900"
      ]
     },
     "execution_count": 41,
     "metadata": {},
     "output_type": "execute_result"
    }
   ],
   "source": [
    "n = range(1,int(pages))\n",
    "\n",
    "#创建一张空的目标表格\n",
    "poisInfo = pd.DataFrame(columns=['name','pname','cityname','adname','address','type','location'])\n",
    "\n",
    "#循环访问每一页\n",
    "for page in n :\n",
    "    parameters['page'] = page\n",
    "    result = getGaodeMapInfo(url = url , parameters = parameters)\n",
    "    \n",
    "    #将数据转换成DataFrame表格形式\n",
    "    pois = pd.DataFrame(result['pois'])\n",
    "    \n",
    "    #选取必要的字段\n",
    "    info = pois.loc[:,['name','pname','cityname','adname','address','type','location']]\n",
    "    \n",
    "    #合并表\n",
    "    poisInfo = poisInfo.append(info,ignore_index = True)\n",
    "        \n",
    "    \n",
    "len(poisInfo)"
   ]
  },
  {
   "cell_type": "code",
   "execution_count": 51,
   "metadata": {},
   "outputs": [
    {
     "data": {
      "text/plain": [
       "900"
      ]
     },
     "execution_count": 51,
     "metadata": {},
     "output_type": "execute_result"
    }
   ],
   "source": [
    "#清洗数据\n",
    "#清除为空的数据\n",
    "poisInfo_cleaned = poisInfo.dropna(how = 'all')\n",
    "\n",
    "len(poisInfo_cleaned)"
   ]
  },
  {
   "cell_type": "code",
   "execution_count": 52,
   "metadata": {},
   "outputs": [
    {
     "data": {
      "text/html": [
       "<div>\n",
       "<style scoped>\n",
       "    .dataframe tbody tr th:only-of-type {\n",
       "        vertical-align: middle;\n",
       "    }\n",
       "\n",
       "    .dataframe tbody tr th {\n",
       "        vertical-align: top;\n",
       "    }\n",
       "\n",
       "    .dataframe thead th {\n",
       "        text-align: right;\n",
       "    }\n",
       "</style>\n",
       "<table border=\"1\" class=\"dataframe\">\n",
       "  <thead>\n",
       "    <tr style=\"text-align: right;\">\n",
       "      <th></th>\n",
       "      <th>name</th>\n",
       "      <th>pname</th>\n",
       "      <th>cityname</th>\n",
       "      <th>adname</th>\n",
       "      <th>address</th>\n",
       "      <th>type</th>\n",
       "      <th>location</th>\n",
       "    </tr>\n",
       "  </thead>\n",
       "  <tbody>\n",
       "    <tr>\n",
       "      <th>0</th>\n",
       "      <td>长沙银行(湘府路支行)</td>\n",
       "      <td>湖南省</td>\n",
       "      <td>长沙市</td>\n",
       "      <td>雨花区</td>\n",
       "      <td>湘府东路258号双塔国际广场1层</td>\n",
       "      <td>金融保险服务;银行;银行</td>\n",
       "      <td>113.024542,28.111527</td>\n",
       "    </tr>\n",
       "    <tr>\n",
       "      <th>1</th>\n",
       "      <td>长沙银行(高升路支行)</td>\n",
       "      <td>湖南省</td>\n",
       "      <td>长沙市</td>\n",
       "      <td>雨花区</td>\n",
       "      <td>高升路268号</td>\n",
       "      <td>金融保险服务;银行;银行</td>\n",
       "      <td>113.006122,28.096131</td>\n",
       "    </tr>\n",
       "    <tr>\n",
       "      <th>2</th>\n",
       "      <td>长沙银行(高桥支行)</td>\n",
       "      <td>湖南省</td>\n",
       "      <td>长沙市</td>\n",
       "      <td>雨花区</td>\n",
       "      <td>[]</td>\n",
       "      <td>金融保险服务;银行;银行</td>\n",
       "      <td>113.029341,28.181563</td>\n",
       "    </tr>\n",
       "    <tr>\n",
       "      <th>3</th>\n",
       "      <td>方正证券</td>\n",
       "      <td>湖南省</td>\n",
       "      <td>长沙市</td>\n",
       "      <td>雨花区</td>\n",
       "      <td>韶山南路777号4层</td>\n",
       "      <td>金融保险服务;证券公司;证券公司</td>\n",
       "      <td>113.005319,28.127533</td>\n",
       "    </tr>\n",
       "    <tr>\n",
       "      <th>4</th>\n",
       "      <td>长沙银行(银德支行)</td>\n",
       "      <td>湖南省</td>\n",
       "      <td>长沙市</td>\n",
       "      <td>天心区</td>\n",
       "      <td>芙蓉中路三段266号弘林国际大厦</td>\n",
       "      <td>金融保险服务;银行;银行</td>\n",
       "      <td>112.985314,28.165562</td>\n",
       "    </tr>\n",
       "    <tr>\n",
       "      <th>5</th>\n",
       "      <td>华融湘江银行(长沙分行)</td>\n",
       "      <td>湖南省</td>\n",
       "      <td>长沙市</td>\n",
       "      <td>雨花区</td>\n",
       "      <td>湘府东路208号万境财智中心</td>\n",
       "      <td>金融保险服务;银行;银行</td>\n",
       "      <td>113.028316,28.110804</td>\n",
       "    </tr>\n",
       "    <tr>\n",
       "      <th>6</th>\n",
       "      <td>中国农业银行(高云支行)</td>\n",
       "      <td>湖南省</td>\n",
       "      <td>长沙市</td>\n",
       "      <td>天心区</td>\n",
       "      <td>暮云村高云村长沙理工大学新校区行健轩2栋</td>\n",
       "      <td>金融保险服务;银行;中国农业银行</td>\n",
       "      <td>113.010022,28.070508</td>\n",
       "    </tr>\n",
       "    <tr>\n",
       "      <th>7</th>\n",
       "      <td>长沙银行(南城支行)</td>\n",
       "      <td>湖南省</td>\n",
       "      <td>长沙市</td>\n",
       "      <td>天心区</td>\n",
       "      <td>湘府西路31号鑫远国际大厦1层</td>\n",
       "      <td>金融保险服务;银行;银行</td>\n",
       "      <td>112.977875,28.111662</td>\n",
       "    </tr>\n",
       "    <tr>\n",
       "      <th>8</th>\n",
       "      <td>长沙银行(汇融支行)</td>\n",
       "      <td>湖南省</td>\n",
       "      <td>长沙市</td>\n",
       "      <td>天心区</td>\n",
       "      <td>芙蓉中路三段558号现代空间大厦</td>\n",
       "      <td>金融保险服务;银行;银行</td>\n",
       "      <td>112.984839,28.149473</td>\n",
       "    </tr>\n",
       "    <tr>\n",
       "      <th>9</th>\n",
       "      <td>人保财险(湖南省分公司)</td>\n",
       "      <td>湖南省</td>\n",
       "      <td>长沙市</td>\n",
       "      <td>开福区</td>\n",
       "      <td>湘雅路167号</td>\n",
       "      <td>金融保险服务;金融保险服务机构;金融保险机构</td>\n",
       "      <td>112.981554,28.213350</td>\n",
       "    </tr>\n",
       "  </tbody>\n",
       "</table>\n",
       "</div>"
      ],
      "text/plain": [
       "           name pname cityname adname               address  \\\n",
       "0   长沙银行(湘府路支行)   湖南省      长沙市    雨花区      湘府东路258号双塔国际广场1层   \n",
       "1   长沙银行(高升路支行)   湖南省      长沙市    雨花区               高升路268号   \n",
       "2    长沙银行(高桥支行)   湖南省      长沙市    雨花区                    []   \n",
       "3          方正证券   湖南省      长沙市    雨花区            韶山南路777号4层   \n",
       "4    长沙银行(银德支行)   湖南省      长沙市    天心区      芙蓉中路三段266号弘林国际大厦   \n",
       "5  华融湘江银行(长沙分行)   湖南省      长沙市    雨花区        湘府东路208号万境财智中心   \n",
       "6  中国农业银行(高云支行)   湖南省      长沙市    天心区  暮云村高云村长沙理工大学新校区行健轩2栋   \n",
       "7    长沙银行(南城支行)   湖南省      长沙市    天心区       湘府西路31号鑫远国际大厦1层   \n",
       "8    长沙银行(汇融支行)   湖南省      长沙市    天心区      芙蓉中路三段558号现代空间大厦   \n",
       "9  人保财险(湖南省分公司)   湖南省      长沙市    开福区               湘雅路167号   \n",
       "\n",
       "                     type              location  \n",
       "0            金融保险服务;银行;银行  113.024542,28.111527  \n",
       "1            金融保险服务;银行;银行  113.006122,28.096131  \n",
       "2            金融保险服务;银行;银行  113.029341,28.181563  \n",
       "3        金融保险服务;证券公司;证券公司  113.005319,28.127533  \n",
       "4            金融保险服务;银行;银行  112.985314,28.165562  \n",
       "5            金融保险服务;银行;银行  113.028316,28.110804  \n",
       "6        金融保险服务;银行;中国农业银行  113.010022,28.070508  \n",
       "7            金融保险服务;银行;银行  112.977875,28.111662  \n",
       "8            金融保险服务;银行;银行  112.984839,28.149473  \n",
       "9  金融保险服务;金融保险服务机构;金融保险机构  112.981554,28.213350  "
      ]
     },
     "execution_count": 52,
     "metadata": {},
     "output_type": "execute_result"
    }
   ],
   "source": [
    "poisInfo_cleaned.head(10)"
   ]
  },
  {
   "cell_type": "code",
   "execution_count": 47,
   "metadata": {},
   "outputs": [],
   "source": [
    "#导出csv文件\n",
    "\n",
    "import os\n",
    "\n",
    "path = os.getcwd()\n",
    "\n",
    "poisInfo_cleaned.to_csv(path + '\\\\data\\\\pois_changsha.csv',index = 0,encoding='utf-8')\n"
   ]
  }
 ],
 "metadata": {
  "kernelspec": {
   "display_name": "Python 3",
   "language": "python",
   "name": "python3"
  },
  "language_info": {
   "codemirror_mode": {
    "name": "ipython",
    "version": 3
   },
   "file_extension": ".py",
   "mimetype": "text/x-python",
   "name": "python",
   "nbconvert_exporter": "python",
   "pygments_lexer": "ipython3",
   "version": "3.7.1"
  },
  "toc": {
   "base_numbering": 1,
   "nav_menu": {},
   "number_sections": true,
   "sideBar": true,
   "skip_h1_title": false,
   "title_cell": "Table of Contents",
   "title_sidebar": "Contents",
   "toc_cell": false,
   "toc_position": {},
   "toc_section_display": true,
   "toc_window_display": false
  }
 },
 "nbformat": 4,
 "nbformat_minor": 2
}
